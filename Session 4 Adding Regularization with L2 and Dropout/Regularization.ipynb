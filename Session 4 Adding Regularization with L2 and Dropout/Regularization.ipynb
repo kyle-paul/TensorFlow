{
 "cells": [
  {
   "attachments": {},
   "cell_type": "markdown",
   "metadata": {},
   "source": [
    "# **Example of Regularization**"
   ]
  },
  {
   "attachments": {},
   "cell_type": "markdown",
   "metadata": {},
   "source": [
    "Let’s say we want to build a linear regression model to predict the house prices based on some features, such as the number of rooms, the size of the house, the location, etc. We have a training dataset of 100 houses with their features and prices, and we want to use gradient descent to find the optimal weights for our model.\n",
    "\n",
    "However, we notice that our model is overfitting the training data, meaning that it has a very low training error but a high test error when we evaluate it on new data. This means that our model is too complex and it learns the noise in the training data instead of the general patterns.\n",
    "\n",
    "To prevent overfitting, we can use regularization techniques such as L2 or L1 regularization. These techniques add a penalty term to the loss function that depends on the magnitude of the weights. The penalty term makes the model prefer smaller weights and reduces the complexity of the model.\n",
    "\n",
    "For example, if we use L2 regularization, our loss function becomes:\n",
    "\n",
    "$$\n",
    "L = \\frac{1}{2n} \\sum{i=1}^n(y_i - \\hat{y_i})^2 + \\lambda \\sum_{j=1}^m w_j^2\n",
    "$$\n",
    "\n",
    "where:\n",
    "\n",
    "- L is the loss function with L2 regularization.\n",
    "- n is the number of training examples.\n",
    "- yi​ is the true price of the i-th house.\n",
    "- y^​i​ is the predicted price of the i-th house.\n",
    "- λ is the regularization parameter that controls the strength of the regularization.\n",
    "- m is the number of features.\n",
    "- wj​ is the weight of the j-th feature"
   ]
  }
 ],
 "metadata": {
  "kernelspec": {
   "display_name": "Python 3",
   "language": "python",
   "name": "python3"
  },
  "language_info": {
   "name": "python",
   "version": "3.10.2"
  },
  "orig_nbformat": 4
 },
 "nbformat": 4,
 "nbformat_minor": 2
}
