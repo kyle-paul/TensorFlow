{
 "cells": [
  {
   "cell_type": "code",
   "execution_count": 1,
   "metadata": {},
   "outputs": [],
   "source": [
    "import tensorflow as tf\n",
    "from tensorflow import keras\n",
    "from tensorflow.keras import layers\n",
    "from tensorflow.keras.datasets import cifar10"
   ]
  },
  {
   "attachments": {},
   "cell_type": "markdown",
   "metadata": {},
   "source": [
    "## **Load dataset**"
   ]
  },
  {
   "cell_type": "code",
   "execution_count": 2,
   "metadata": {},
   "outputs": [
    {
     "name": "stdout",
     "output_type": "stream",
     "text": [
      "Downloading data from https://www.cs.toronto.edu/~kriz/cifar-10-python.tar.gz\n",
      "170498071/170498071 [==============================] - 379s 2us/step\n"
     ]
    },
    {
     "data": {
      "text/plain": [
       "((50000, 32, 32, 3), (10000, 32, 32, 3), (50000, 1), (10000, 1))"
      ]
     },
     "execution_count": 2,
     "metadata": {},
     "output_type": "execute_result"
    }
   ],
   "source": [
    "(X_train, y_train), (X_test, y_test) = cifar10.load_data()\n",
    "X_train.shape, X_test.shape, y_train.shape, y_test.shape"
   ]
  },
  {
   "attachments": {},
   "cell_type": "markdown",
   "metadata": {},
   "source": [
    "## **Normalization**"
   ]
  },
  {
   "cell_type": "code",
   "execution_count": 3,
   "metadata": {},
   "outputs": [
    {
     "data": {
      "text/plain": [
       "(dtype('float32'), dtype('float32'))"
      ]
     },
     "execution_count": 3,
     "metadata": {},
     "output_type": "execute_result"
    }
   ],
   "source": [
    "X_train = X_train.astype(\"float32\") / 255.0\n",
    "X_test = X_test.astype(\"float32\") / 225.0\n",
    "X_train.dtype, X_test.dtype"
   ]
  },
  {
   "cell_type": "code",
   "execution_count": 4,
   "metadata": {},
   "outputs": [
    {
     "ename": "AttributeError",
     "evalue": "module 'keras.api._v2.keras.layers' has no attribute 'Conv2d'",
     "output_type": "error",
     "traceback": [
      "\u001b[1;31m---------------------------------------------------------------------------\u001b[0m",
      "\u001b[1;31mAttributeError\u001b[0m                            Traceback (most recent call last)",
      "\u001b[1;32me:\\ML engineering\\TensorFlow\\Session 3 Convolutional Neural Networks with Sequential and Functional API.ipynb Cell 6\u001b[0m in \u001b[0;36m4\n\u001b[0;32m      <a href='vscode-notebook-cell:/e%3A/ML%20engineering/TensorFlow/Session%203%20Convolutional%20Neural%20Networks%20with%20Sequential%20and%20Functional%20API.ipynb#W6sZmlsZQ%3D%3D?line=0'>1</a>\u001b[0m model_cifar10 \u001b[39m=\u001b[39m keras\u001b[39m.\u001b[39mSequential(\n\u001b[0;32m      <a href='vscode-notebook-cell:/e%3A/ML%20engineering/TensorFlow/Session%203%20Convolutional%20Neural%20Networks%20with%20Sequential%20and%20Functional%20API.ipynb#W6sZmlsZQ%3D%3D?line=1'>2</a>\u001b[0m     [\n\u001b[0;32m      <a href='vscode-notebook-cell:/e%3A/ML%20engineering/TensorFlow/Session%203%20Convolutional%20Neural%20Networks%20with%20Sequential%20and%20Functional%20API.ipynb#W6sZmlsZQ%3D%3D?line=2'>3</a>\u001b[0m         keras\u001b[39m.\u001b[39mInput(shape\u001b[39m=\u001b[39m(\u001b[39m32\u001b[39m,\u001b[39m32\u001b[39m,\u001b[39m3\u001b[39m)), \u001b[39m# we use convolutional network so do not reshape\u001b[39;00m\n\u001b[1;32m----> <a href='vscode-notebook-cell:/e%3A/ML%20engineering/TensorFlow/Session%203%20Convolutional%20Neural%20Networks%20with%20Sequential%20and%20Functional%20API.ipynb#W6sZmlsZQ%3D%3D?line=3'>4</a>\u001b[0m         layers\u001b[39m.\u001b[39;49mConv2d(\u001b[39m32\u001b[39m, \u001b[39m3\u001b[39m, padding\u001b[39m=\u001b[39m\u001b[39m'\u001b[39m\u001b[39mvalid\u001b[39m\u001b[39m'\u001b[39m, activation\u001b[39m=\u001b[39m\u001b[39m'\u001b[39m\u001b[39mrelu\u001b[39m\u001b[39m'\u001b[39m),\n\u001b[0;32m      <a href='vscode-notebook-cell:/e%3A/ML%20engineering/TensorFlow/Session%203%20Convolutional%20Neural%20Networks%20with%20Sequential%20and%20Functional%20API.ipynb#W6sZmlsZQ%3D%3D?line=4'>5</a>\u001b[0m         layers\u001b[39m.\u001b[39mMaxPooling2D(pool_size\u001b[39m=\u001b[39m(\u001b[39m2\u001b[39m,\u001b[39m2\u001b[39m)),\n\u001b[0;32m      <a href='vscode-notebook-cell:/e%3A/ML%20engineering/TensorFlow/Session%203%20Convolutional%20Neural%20Networks%20with%20Sequential%20and%20Functional%20API.ipynb#W6sZmlsZQ%3D%3D?line=5'>6</a>\u001b[0m     ]\n\u001b[0;32m      <a href='vscode-notebook-cell:/e%3A/ML%20engineering/TensorFlow/Session%203%20Convolutional%20Neural%20Networks%20with%20Sequential%20and%20Functional%20API.ipynb#W6sZmlsZQ%3D%3D?line=6'>7</a>\u001b[0m )\n\u001b[0;32m      <a href='vscode-notebook-cell:/e%3A/ML%20engineering/TensorFlow/Session%203%20Convolutional%20Neural%20Networks%20with%20Sequential%20and%20Functional%20API.ipynb#W6sZmlsZQ%3D%3D?line=8'>9</a>\u001b[0m model_cifar10\u001b[39m.\u001b[39msummary()\n",
      "\u001b[1;31mAttributeError\u001b[0m: module 'keras.api._v2.keras.layers' has no attribute 'Conv2d'"
     ]
    }
   ],
   "source": [
    "model_cifar10 = keras.Sequential(\n",
    "    [\n",
    "        keras.Input(shape=(32,32,3)), # we use convolutional network so do not reshape\n",
    "        layers.Conv2D(32, 3, padding='valid', activation='relu'),\n",
    "        layers.MaxPooling2D(pool_size=(2,2)),\n",
    "    ]\n",
    ")\n",
    "\n",
    "model_cifar10.summary()"
   ]
  }
 ],
 "metadata": {
  "kernelspec": {
   "display_name": "Python 3",
   "language": "python",
   "name": "python3"
  },
  "language_info": {
   "codemirror_mode": {
    "name": "ipython",
    "version": 3
   },
   "file_extension": ".py",
   "mimetype": "text/x-python",
   "name": "python",
   "nbconvert_exporter": "python",
   "pygments_lexer": "ipython3",
   "version": "3.10.2"
  },
  "orig_nbformat": 4
 },
 "nbformat": 4,
 "nbformat_minor": 2
}
