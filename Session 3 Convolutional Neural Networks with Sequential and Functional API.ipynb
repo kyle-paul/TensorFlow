{
 "cells": [
  {
   "cell_type": "code",
   "execution_count": 1,
   "metadata": {},
   "outputs": [],
   "source": [
    "import tensorflow as tf\n",
    "from tensorflow import keras\n",
    "from tensorflow.keras import layers\n",
    "from tensorflow.keras.datasets import cifar10"
   ]
  },
  {
   "attachments": {},
   "cell_type": "markdown",
   "metadata": {},
   "source": [
    "## **Load dataset**"
   ]
  },
  {
   "cell_type": "code",
   "execution_count": 2,
   "metadata": {},
   "outputs": [
    {
     "name": "stdout",
     "output_type": "stream",
     "text": [
      "Downloading data from https://www.cs.toronto.edu/~kriz/cifar-10-python.tar.gz\n",
      "170498071/170498071 [==============================] - 379s 2us/step\n"
     ]
    },
    {
     "data": {
      "text/plain": [
       "((50000, 32, 32, 3), (10000, 32, 32, 3), (50000, 1), (10000, 1))"
      ]
     },
     "execution_count": 2,
     "metadata": {},
     "output_type": "execute_result"
    }
   ],
   "source": [
    "(X_train, y_train), (X_test, y_test) = cifar10.load_data()\n",
    "X_train.shape, X_test.shape, y_train.shape, y_test.shape"
   ]
  },
  {
   "attachments": {},
   "cell_type": "markdown",
   "metadata": {},
   "source": [
    "## **Normalization**"
   ]
  },
  {
   "cell_type": "code",
   "execution_count": 3,
   "metadata": {},
   "outputs": [
    {
     "data": {
      "text/plain": [
       "(dtype('float32'), dtype('float32'))"
      ]
     },
     "execution_count": 3,
     "metadata": {},
     "output_type": "execute_result"
    }
   ],
   "source": [
    "X_train = X_train.astype(\"float32\") / 255.0\n",
    "X_test = X_test.astype(\"float32\") / 225.0\n",
    "X_train.dtype, X_test.dtype"
   ]
  },
  {
   "attachments": {},
   "cell_type": "markdown",
   "metadata": {},
   "source": [
    "## **Explanation**"
   ]
  },
  {
   "attachments": {},
   "cell_type": "markdown",
   "metadata": {},
   "source": [
    "A **Conv2D layer** is a 2D convolution layer that applies a `set of filters` to the input image. Each filter is a small matrix that slides over the image and computes a `dot product` between the filter values and the pixel values. The result is a new image (called a `feature map`) that highlights the features that the filter is designed to detect. For example, some filters may **detect edges, corners, colors, textures**, etc. The Conv2D layer can have multiple filters, each producing a different feature map. The layer also has some parameters that control how the filters are applied, such as:\n",
    "\n",
    "- `filters`: the number of filters (or output channels) in the layer.\n",
    "- `kernel_size`: the size of each filter (or kernel) in the layer. It can be a single integer or a tuple of two - integers for height and width.\n",
    "- `strides`: the number of pixels that the filter moves by in each dimension. It can be a single integer or a tuple of two integers for vertical and horizontal strides.\n",
    "- `padding`: how to handle the edges of the input image. It can be either “valid” or “same”. **“valid”** means no padding is added and the output size may be smaller than the input size. **“same”** means padding is added such that the output size is the same as the input size.\n",
    "- `activation`: an optional function to apply to the output of the layer, such as “relu”, “sigmoid”, “tanh”, etc."
   ]
  },
  {
   "attachments": {},
   "cell_type": "markdown",
   "metadata": {},
   "source": [
    "A **MaxPooling2D layer** is a 2D pooling layer that **reduces the size of the input image** by taking the maximum value over a window of pixels. This helps to reduce noise, increase speed, and extract dominant features from the image. The MaxPooling2D layer also has some parameters that control how the pooling is done, such as:\n",
    "\n",
    "- `pool_size`: the size of the window over which to take the maximum. It can be a single integer or a tuple of two integers for height and width.\n",
    "- `strides`: the number of pixels that the window moves by in each dimension. It can be a single integer or a tuple of two integers for vertical and horizontal strides. If None, it defaults to pool_size.\n",
    "- `padding`: how to handle the edges of the input image. It can be either “valid” or “same”. “valid” means no padding is added and the output size may be smaller than the input size. “same” means padding is added such that the output size is the same as the input size."
   ]
  },
  {
   "attachments": {},
   "cell_type": "markdown",
   "metadata": {},
   "source": [
    "**How to calculate the ouput size after applying convolution?**\n",
    "\n",
    "output_size = (input_size - kernel_size + 2 * padding) / stride + 1 = (32 - 3 + 2 * 0) / 1 + 1 = 30\n",
    "\n",
    "- padding = `valid` -> padding = 0\n",
    "- padding = `same`  -> padding = (kernel_size - 1) / 2."
   ]
  },
  {
   "cell_type": "code",
   "execution_count": 6,
   "metadata": {},
   "outputs": [
    {
     "name": "stdout",
     "output_type": "stream",
     "text": [
      "Model: \"sequential_1\"\n",
      "_________________________________________________________________\n",
      " Layer (type)                Output Shape              Param #   \n",
      "=================================================================\n",
      " conv2d_1 (Conv2D)           (None, 30, 30, 32)        896       \n",
      "                                                                 \n",
      " max_pooling2d_1 (MaxPooling  (None, 15, 15, 32)       0         \n",
      " 2D)                                                             \n",
      "                                                                 \n",
      " conv2d_2 (Conv2D)           (None, 13, 13, 64)        18496     \n",
      "                                                                 \n",
      " max_pooling2d_2 (MaxPooling  (None, 6, 6, 64)         0         \n",
      " 2D)                                                             \n",
      "                                                                 \n",
      " conv2d_3 (Conv2D)           (None, 4, 4, 128)         73856     \n",
      "                                                                 \n",
      " flatten (Flatten)           (None, 2048)              0         \n",
      "                                                                 \n",
      " dense (Dense)               (None, 64)                131136    \n",
      "                                                                 \n",
      " dense_1 (Dense)             (None, 10)                650       \n",
      "                                                                 \n",
      "=================================================================\n",
      "Total params: 225,034\n",
      "Trainable params: 225,034\n",
      "Non-trainable params: 0\n",
      "_________________________________________________________________\n"
     ]
    }
   ],
   "source": [
    "model_cifar10 = keras.Sequential(\n",
    "    [\n",
    "        keras.Input(shape=(32,32,3)), \n",
    "        layers.Conv2D(32, 3, padding='valid', activation='relu'), # 32 filters, each with kernel of size (3,3)\n",
    "        layers.MaxPooling2D(pool_size=(2,2)), # Each pixel in this feature map represents the maximum value in a 2x2 region of the input feature map.\n",
    "        layers.Conv2D(64, 3, activation='relu'), # 64 filters, each with kernel of size (3,3)\n",
    "        layers.MaxPooling2D(), # pool_size=(2,2) by default\n",
    "        layers.Conv2D(128, 3, activation='relu'), # 128 filters, each with kernel of size (3,3)\n",
    "        layers.Flatten(), # reshape the input feature map into a one-dimensional vector -> prepare the input for the dense layers\n",
    "        layers.Dense(64, activation='relu'), # A Dense layer with 64 units\n",
    "        layers.Dense(10), # computes a linear transformation\n",
    "    ]\n",
    ")\n",
    "\n",
    "model_cifar10.summary()"
   ]
  }
 ],
 "metadata": {
  "kernelspec": {
   "display_name": "Python 3",
   "language": "python",
   "name": "python3"
  },
  "language_info": {
   "codemirror_mode": {
    "name": "ipython",
    "version": 3
   },
   "file_extension": ".py",
   "mimetype": "text/x-python",
   "name": "python",
   "nbconvert_exporter": "python",
   "pygments_lexer": "ipython3",
   "version": "3.10.2"
  },
  "orig_nbformat": 4
 },
 "nbformat": 4,
 "nbformat_minor": 2
}
