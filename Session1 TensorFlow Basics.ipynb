{
 "cells": [
  {
   "attachments": {},
   "cell_type": "markdown",
   "metadata": {},
   "source": [
    "## **Basic Tensors**"
   ]
  },
  {
   "cell_type": "code",
   "execution_count": 4,
   "metadata": {},
   "outputs": [
    {
     "name": "stdout",
     "output_type": "stream",
     "text": [
      "2.11.0\n"
     ]
    }
   ],
   "source": [
    "import tensorflow as tf\n",
    "print(tf.__version__)"
   ]
  },
  {
   "cell_type": "code",
   "execution_count": 54,
   "metadata": {},
   "outputs": [
    {
     "data": {
      "text/plain": [
       "[]"
      ]
     },
     "execution_count": 54,
     "metadata": {},
     "output_type": "execute_result"
    }
   ],
   "source": [
    "physical_devices = tf.config.list_physical_devices('GPU')\n",
    "tf.config.experimental.set_memory_growth(physical_devices[0], True)"
   ]
  },
  {
   "cell_type": "code",
   "execution_count": 11,
   "metadata": {},
   "outputs": [
    {
     "name": "stdout",
     "output_type": "stream",
     "text": [
      "tf.Tensor([[4.]], shape=(1, 1), dtype=float32)\n"
     ]
    }
   ],
   "source": [
    "x = tf.constant(4, shape=(1,1), dtype=tf.float32)\n",
    "print(x)"
   ]
  },
  {
   "cell_type": "code",
   "execution_count": 14,
   "metadata": {},
   "outputs": [
    {
     "name": "stdout",
     "output_type": "stream",
     "text": [
      "tf.Tensor(\n",
      "[[1 2 3]\n",
      " [4 5 6]], shape=(2, 3), dtype=int32)\n"
     ]
    }
   ],
   "source": [
    "x = tf.constant([[1,2,3],\n",
    "                 [4,5,6]])\n",
    "print(x)"
   ]
  },
  {
   "cell_type": "code",
   "execution_count": 22,
   "metadata": {},
   "outputs": [
    {
     "name": "stdout",
     "output_type": "stream",
     "text": [
      "tf.Tensor(\n",
      "[[[1 2 3]\n",
      "  [4 5 6]\n",
      "  [2 3 9]]\n",
      "\n",
      " [[7 8 9]\n",
      "  [2 5 6]\n",
      "  [3 4 7]]], shape=(2, 3, 3), dtype=int32)\n",
      "tf.Tensor(6, shape=(), dtype=int32)\n"
     ]
    }
   ],
   "source": [
    "x = tf.constant([[[1,2,3],\n",
    "                  [4,5,6],\n",
    "                  [2,3,9]],\n",
    "                 [[7,8,9],\n",
    "                  [2,5,6],\n",
    "                  [3,4,7]]])\n",
    "print(x)\n",
    "print(x[0][1][2])"
   ]
  },
  {
   "cell_type": "code",
   "execution_count": 26,
   "metadata": {},
   "outputs": [
    {
     "name": "stdout",
     "output_type": "stream",
     "text": [
      "tf.Tensor(\n",
      "[[1. 0. 0.]\n",
      " [0. 1. 0.]\n",
      " [0. 0. 1.]], shape=(3, 3), dtype=float32)\n"
     ]
    }
   ],
   "source": [
    "x = tf.ones((3,3))\n",
    "x = tf.zeros((2,3))\n",
    "x = tf.eye(3) # identity matrix\n",
    "print(x)"
   ]
  },
  {
   "cell_type": "code",
   "execution_count": 32,
   "metadata": {},
   "outputs": [
    {
     "name": "stdout",
     "output_type": "stream",
     "text": [
      "tf.Tensor(\n",
      "[[-0.9121928  -1.6864858  -2.4917152   2.6043758 ]\n",
      " [ 1.1664013  -0.7048528   0.9460205   0.2817023 ]\n",
      " [ 0.00381061  0.45072925 -1.344847    0.5297853 ]\n",
      " [-1.3141226   1.4588739   2.3007512  -0.86698973]], shape=(4, 4), dtype=float32)\n"
     ]
    }
   ],
   "source": [
    "# normal distribution\n",
    "x = tf.random.normal((4,4), mean = 0, stddev=1)\n",
    "print(x)"
   ]
  },
  {
   "cell_type": "code",
   "execution_count": 34,
   "metadata": {},
   "outputs": [
    {
     "name": "stdout",
     "output_type": "stream",
     "text": [
      "tf.Tensor(\n",
      "[[[2.09486633e+02 1.61768295e+02 2.12972794e+02 6.96707840e+01\n",
      "   1.38437439e+02 2.60345936e+00 1.98889908e+02 1.51986755e+02\n",
      "   9.10583115e+00 1.27944317e+01]\n",
      "  [1.64445786e+02 2.21812897e+02 5.09181442e+01 1.67036606e+02\n",
      "   6.39729118e+01 1.86417953e+02 2.57643337e+01 2.19767548e+02\n",
      "   1.38607208e+02 1.10210197e+02]\n",
      "  [1.78363358e+02 1.50008728e+02 1.40690445e+02 1.37651993e+02\n",
      "   1.12264929e+01 3.53543053e+01 1.13362709e+02 2.19735809e+02\n",
      "   1.54094650e+02 1.59201441e+01]\n",
      "  [1.11426392e+02 1.36594315e+02 2.68848534e+01 2.62539711e+01\n",
      "   1.14456940e+02 1.52131592e+02 1.50240448e+02 1.81371033e+02\n",
      "   7.54761581e+01 8.87760773e+01]\n",
      "  [2.14563690e+02 6.11053619e+01 4.10633049e+01 1.78880806e+01\n",
      "   1.67359543e+02 1.67514687e+01 4.51158829e+01 7.79047318e+01\n",
      "   1.87946838e+02 1.61883377e+02]\n",
      "  [1.80523102e+02 1.35785217e+02 1.82274826e+02 9.10689392e+01\n",
      "   1.02289879e+02 3.71831942e+00 6.97934113e+01 6.63790436e+01\n",
      "   1.01535477e+02 5.72512131e+01]\n",
      "  [1.23817101e+02 1.21772018e+02 1.97005524e+02 5.45173454e+01\n",
      "   8.95424347e+01 1.42085037e+02 8.82661343e-01 1.06661713e+02\n",
      "   9.95019054e+00 3.35739326e+01]\n",
      "  [5.93377037e+01 2.09366348e+02 1.03650078e+02 2.06456680e+02\n",
      "   1.09060417e+02 8.00639391e-02 6.00521393e+01 9.89845657e+01\n",
      "   2.05055466e+02 7.95104675e+01]\n",
      "  [9.40722351e+01 4.37124977e+01 6.69498978e+01 2.06017288e+02\n",
      "   8.05888748e+01 1.45977676e+02 1.92436264e+02 8.26472855e+01\n",
      "   2.05939438e+02 1.09482758e+02]\n",
      "  [1.52270264e+02 6.07763901e+01 1.43809540e+02 1.68739761e+02\n",
      "   3.61527977e+01 7.12206960e-01 1.62233673e+02 4.08267365e+01\n",
      "   2.13159332e+02 2.45748005e+01]]\n",
      "\n",
      " [[4.95375023e+01 1.31856613e+02 1.53223333e+01 4.22069740e+00\n",
      "   2.17392776e+02 7.88857803e+01 1.81897003e+02 1.92202484e+02\n",
      "   1.44828873e+02 4.41761703e+01]\n",
      "  [1.99373184e+02 8.46425476e+01 1.12653557e+02 9.11507950e+01\n",
      "   1.32778091e+02 5.03623085e+01 1.37513428e+02 2.13977783e+02\n",
      "   1.59464996e+02 1.29094376e+02]\n",
      "  [1.57799072e+02 1.83009506e+02 7.82062912e+01 1.30618210e+02\n",
      "   2.20936050e+02 2.16273479e+01 1.18394638e+02 2.04937241e+02\n",
      "   1.45123947e+02 1.12673431e+02]\n",
      "  [1.10877502e+02 1.16459480e+02 6.94536591e+01 4.15848885e+01\n",
      "   1.71886093e+02 1.61648026e+02 1.22991352e+01 1.50899200e+02\n",
      "   6.52576904e+01 9.56399841e+01]\n",
      "  [1.42619522e+02 3.14243050e+01 1.99701538e+02 2.21158859e+02\n",
      "   1.53176773e+02 1.71250885e+02 1.48424301e+02 2.05592453e+02\n",
      "   1.56109070e+02 8.22543411e+01]\n",
      "  [1.21890358e+02 1.89128571e+02 3.02355766e+01 2.11572037e+02\n",
      "   1.01233948e+02 6.16392555e+01 1.01822693e+02 1.09056175e+02\n",
      "   6.04576073e+01 1.94664536e+01]\n",
      "  [1.83310242e+02 3.06131783e+01 2.20956085e+02 2.11698303e+02\n",
      "   7.79658051e+01 9.68397903e+01 1.32649643e+02 1.56899246e+02\n",
      "   2.08616776e+02 9.04124146e+01]\n",
      "  [9.03421097e+01 2.14519073e+02 6.22270889e+01 1.46238388e+02\n",
      "   1.75553452e+02 1.98440277e+02 1.42471252e+02 2.23788788e+02\n",
      "   1.66506836e+02 2.37884579e+01]\n",
      "  [1.53429489e+02 6.21456299e+01 2.10707504e+02 1.26701439e+02\n",
      "   9.61988754e+01 2.15295425e+02 1.66344162e+02 3.99724770e+01\n",
      "   3.03790207e+01 1.52384232e+02]\n",
      "  [1.11139290e+02 6.20873451e+01 2.20477310e+02 1.34113998e+02\n",
      "   1.76562119e+02 1.64619003e+02 1.11565575e+02 8.60032654e+01\n",
      "   1.74853745e+02 1.88473892e+02]]], shape=(2, 10, 10), dtype=float32)\n"
     ]
    }
   ],
   "source": [
    "# uniform distribution\n",
    "# create 2 samples of 10x10 pixels images\n",
    "x = tf.random.uniform((2, 10, 10), minval=0, maxval=225)\n",
    "print(x)"
   ]
  },
  {
   "cell_type": "code",
   "execution_count": 39,
   "metadata": {},
   "outputs": [
    {
     "name": "stdout",
     "output_type": "stream",
     "text": [
      "tf.Tensor([0 1 2 3 4 5 6 7 8], shape=(9,), dtype=int32)\n",
      "tf.Tensor([1. 3. 5. 7. 9.], shape=(5,), dtype=float64)\n"
     ]
    }
   ],
   "source": [
    "# range\n",
    "x = tf.range(9)\n",
    "y = tf.range(start=1, limit=10, delta=2)\n",
    "print(x)\n",
    "# cast\n",
    "y = tf.cast(y, dtype=tf.float64)\n",
    "print(y)"
   ]
  },
  {
   "attachments": {},
   "cell_type": "markdown",
   "metadata": {},
   "source": [
    "## **Mathematical Operations**"
   ]
  },
  {
   "cell_type": "code",
   "execution_count": 44,
   "metadata": {},
   "outputs": [
    {
     "name": "stdout",
     "output_type": "stream",
     "text": [
      "tf.Tensor([0.25 0.4  0.5 ], shape=(3,), dtype=float64)\n"
     ]
    }
   ],
   "source": [
    "x = tf.constant([1,2,3])\n",
    "y = tf.constant([4,5,6])\n",
    "\n",
    "z = x + y\n",
    "z = tf.add(x,y)\n",
    "\n",
    "z = x - y\n",
    "z = tf.subtract(x,y)\n",
    "\n",
    "z = x / y\n",
    "z = tf.divide(x,y)\n",
    "\n",
    "z = x * y\n",
    "z = tf.multiply(x,y)\n",
    "\n",
    "print(z)"
   ]
  },
  {
   "cell_type": "code",
   "execution_count": 47,
   "metadata": {},
   "outputs": [
    {
     "name": "stdout",
     "output_type": "stream",
     "text": [
      "tf.Tensor(32, shape=(), dtype=int32)\n"
     ]
    }
   ],
   "source": [
    "z = tf.tensordot(x, y, axes=1)\n",
    "z = tf.reduce_sum(x*y, axis=0)\n",
    "print(z)"
   ]
  },
  {
   "cell_type": "code",
   "execution_count": 48,
   "metadata": {},
   "outputs": [
    {
     "name": "stdout",
     "output_type": "stream",
     "text": [
      "tf.Tensor([  1  32 243], shape=(3,), dtype=int32)\n"
     ]
    }
   ],
   "source": [
    "# element-wise operations\n",
    "z = x ** 5\n",
    "print(z)"
   ]
  },
  {
   "cell_type": "code",
   "execution_count": 50,
   "metadata": {},
   "outputs": [
    {
     "name": "stdout",
     "output_type": "stream",
     "text": [
      "tf.Tensor(\n",
      "[[ 0.8519905  -0.1779189   0.80547446  1.3214501  -2.2902424 ]\n",
      " [-0.31188396 -0.7357957   0.17913713 -0.08800738 -0.44645262]\n",
      " [-1.5119206   0.45748985  1.832193    0.5921169   0.44879144]\n",
      " [-0.46349284 -0.49323368 -2.3482943   0.41159263 -0.09693105]], shape=(4, 5), dtype=float32)\n",
      "tf.Tensor(\n",
      "[[ 1.4345157   0.2835907 ]\n",
      " [ 0.3733034  -0.21598874]\n",
      " [-0.21370585  0.23981018]\n",
      " [-0.08053378 -0.01082744]\n",
      " [ 0.6555969   0.39657283]], shape=(5, 2), dtype=float32)\n",
      "tf.Tensor(\n",
      "[[-0.6242557  -0.44934982]\n",
      " [-1.0459656  -0.06266298]\n",
      " [-2.1431007   0.08336664]\n",
      " [-0.4438642  -0.6309509 ]], shape=(4, 2), dtype=float32)\n"
     ]
    }
   ],
   "source": [
    "# matrix multiplication\n",
    "m = tf.random.normal((4,5))\n",
    "n = tf.random.normal((5,2))\n",
    "print(m)\n",
    "print(n)\n",
    "\n",
    "mn = tf.matmul(m,n)\n",
    "mn = m @ n\n",
    "print(mn)"
   ]
  },
  {
   "attachments": {},
   "cell_type": "markdown",
   "metadata": {},
   "source": [
    "## **Slicing and Indexing**"
   ]
  },
  {
   "cell_type": "code",
   "execution_count": 57,
   "metadata": {},
   "outputs": [
    {
     "name": "stdout",
     "output_type": "stream",
     "text": [
      "tf.Tensor(\n",
      "[[-0.05538731  0.78840816 -1.7234225   1.2485718  -0.6662699 ]\n",
      " [ 0.9634895   1.5275403  -1.2400384   0.8683419  -1.6852088 ]\n",
      " [ 0.15758198 -1.0328375  -0.65537715 -0.7304976  -0.30527896]\n",
      " [ 1.61065     0.7647484   1.4106855  -0.8583765  -1.0242368 ]], shape=(4, 5), dtype=float32)\n"
     ]
    }
   ],
   "source": [
    "m = tf.random.normal((4,5))\n",
    "print(m)"
   ]
  },
  {
   "cell_type": "code",
   "execution_count": 64,
   "metadata": {},
   "outputs": [
    {
     "name": "stdout",
     "output_type": "stream",
     "text": [
      "tf.Tensor([ 0.78840816  1.5275403  -1.0328375   0.7647484 ], shape=(4,), dtype=float32)\n",
      "\n",
      "tf.Tensor(\n",
      "[[-0.05538731 -1.7234225  -0.6662699 ]\n",
      " [ 0.15758198 -0.65537715 -0.30527896]], shape=(2, 3), dtype=float32)\n",
      "\n",
      "tf.Tensor(\n",
      "[[ 1.61065     0.7647484   1.4106855  -0.8583765  -1.0242368 ]\n",
      " [ 0.15758198 -1.0328375  -0.65537715 -0.7304976  -0.30527896]\n",
      " [ 0.9634895   1.5275403  -1.2400384   0.8683419  -1.6852088 ]\n",
      " [-0.05538731  0.78840816 -1.7234225   1.2485718  -0.6662699 ]], shape=(4, 5), dtype=float32)\n",
      "\n",
      "tf.Tensor(\n",
      "[[-0.6662699   1.2485718  -1.7234225   0.78840816 -0.05538731]\n",
      " [-1.6852088   0.8683419  -1.2400384   1.5275403   0.9634895 ]\n",
      " [-0.30527896 -0.7304976  -0.65537715 -1.0328375   0.15758198]\n",
      " [-1.0242368  -0.8583765   1.4106855   0.7647484   1.61065   ]], shape=(4, 5), dtype=float32)\n",
      "\n",
      "tf.Tensor(\n",
      "[[-1.0242368  -0.8583765   1.4106855   0.7647484   1.61065   ]\n",
      " [-0.30527896 -0.7304976  -0.65537715 -1.0328375   0.15758198]\n",
      " [-1.6852088   0.8683419  -1.2400384   1.5275403   0.9634895 ]\n",
      " [-0.6662699   1.2485718  -1.7234225   0.78840816 -0.05538731]], shape=(4, 5), dtype=float32)\n"
     ]
    }
   ],
   "source": [
    "print(m[:,1]) # access column\n",
    "print()\n",
    "print(m[::2,::2]) # skip value\n",
    "print()\n",
    "print(m[::-1]) # reverse the row\n",
    "print()\n",
    "print(m[:,::-1]) # reverse the column\n",
    "print()\n",
    "print(m[::-1,::-1]) # reverse the all dataset"
   ]
  },
  {
   "attachments": {},
   "cell_type": "markdown",
   "metadata": {},
   "source": [
    "## **Reshaping**"
   ]
  },
  {
   "cell_type": "code",
   "execution_count": 66,
   "metadata": {},
   "outputs": [
    {
     "name": "stdout",
     "output_type": "stream",
     "text": [
      "tf.Tensor(\n",
      "[-0.60639316 -1.5211961  -0.39179838  0.3352423   1.3196161   0.48279214\n",
      " -0.99884546  0.52961075  0.13366567], shape=(9,), dtype=float32)\n",
      "tf.Tensor(\n",
      "[[-0.60639316 -1.5211961  -0.39179838]\n",
      " [ 0.3352423   1.3196161   0.48279214]\n",
      " [-0.99884546  0.52961075  0.13366567]], shape=(3, 3), dtype=float32)\n"
     ]
    }
   ],
   "source": [
    "x = tf.random.normal((9,))\n",
    "print(x)\n",
    "x = tf.reshape(x, (3,3))\n",
    "print(x)"
   ]
  },
  {
   "cell_type": "code",
   "execution_count": 70,
   "metadata": {},
   "outputs": [
    {
     "name": "stdout",
     "output_type": "stream",
     "text": [
      "tf.Tensor(\n",
      "[[-0.60639316  0.3352423  -0.99884546]\n",
      " [-1.5211961   1.3196161   0.52961075]\n",
      " [-0.39179838  0.48279214  0.13366567]], shape=(3, 3), dtype=float32)\n"
     ]
    }
   ],
   "source": [
    "# transpose a matrix\n",
    "x = tf.transpose(x, perm=[1, 0])\n",
    "print(x)"
   ]
  }
 ],
 "metadata": {
  "kernelspec": {
   "display_name": "Python 3",
   "language": "python",
   "name": "python3"
  },
  "language_info": {
   "codemirror_mode": {
    "name": "ipython",
    "version": 3
   },
   "file_extension": ".py",
   "mimetype": "text/x-python",
   "name": "python",
   "nbconvert_exporter": "python",
   "pygments_lexer": "ipython3",
   "version": "3.10.2"
  },
  "orig_nbformat": 4
 },
 "nbformat": 4,
 "nbformat_minor": 2
}
